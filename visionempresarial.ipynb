{
  "nbformat": 4,
  "nbformat_minor": 0,
  "metadata": {
    "colab": {
      "provenance": [],
      "authorship_tag": "ABX9TyO5sTqRqi5c2ZXSQOyswMzD",
      "include_colab_link": true
    },
    "kernelspec": {
      "name": "python3",
      "display_name": "Python 3"
    },
    "language_info": {
      "name": "python"
    }
  },
  "cells": [
    {
      "cell_type": "markdown",
      "metadata": {
        "id": "view-in-github",
        "colab_type": "text"
      },
      "source": [
        "<a href=\"https://colab.research.google.com/github/ivanprogramacion/Proyecto-Git-Ejemplo/blob/master/visionempresarial.ipynb\" target=\"_parent\"><img src=\"https://colab.research.google.com/assets/colab-badge.svg\" alt=\"Open In Colab\"/></a>"
      ]
    },
    {
      "cell_type": "code",
      "source": [
        "from google.colab import files\n",
        "uploaded = files.upload()"
      ],
      "metadata": {
        "colab": {
          "base_uri": "https://localhost:8080/",
          "height": 73
        },
        "id": "lxgsqKo_kI_d",
        "outputId": "026d048c-2fe9-4ad7-e074-e09fe4cf28b6"
      },
      "execution_count": 34,
      "outputs": [
        {
          "output_type": "display_data",
          "data": {
            "text/plain": [
              "<IPython.core.display.HTML object>"
            ],
            "text/html": [
              "\n",
              "     <input type=\"file\" id=\"files-d707543d-6f21-4f48-a0d2-b25db4e54bb7\" name=\"files[]\" multiple disabled\n",
              "        style=\"border:none\" />\n",
              "     <output id=\"result-d707543d-6f21-4f48-a0d2-b25db4e54bb7\">\n",
              "      Upload widget is only available when the cell has been executed in the\n",
              "      current browser session. Please rerun this cell to enable.\n",
              "      </output>\n",
              "      <script>// Copyright 2017 Google LLC\n",
              "//\n",
              "// Licensed under the Apache License, Version 2.0 (the \"License\");\n",
              "// you may not use this file except in compliance with the License.\n",
              "// You may obtain a copy of the License at\n",
              "//\n",
              "//      http://www.apache.org/licenses/LICENSE-2.0\n",
              "//\n",
              "// Unless required by applicable law or agreed to in writing, software\n",
              "// distributed under the License is distributed on an \"AS IS\" BASIS,\n",
              "// WITHOUT WARRANTIES OR CONDITIONS OF ANY KIND, either express or implied.\n",
              "// See the License for the specific language governing permissions and\n",
              "// limitations under the License.\n",
              "\n",
              "/**\n",
              " * @fileoverview Helpers for google.colab Python module.\n",
              " */\n",
              "(function(scope) {\n",
              "function span(text, styleAttributes = {}) {\n",
              "  const element = document.createElement('span');\n",
              "  element.textContent = text;\n",
              "  for (const key of Object.keys(styleAttributes)) {\n",
              "    element.style[key] = styleAttributes[key];\n",
              "  }\n",
              "  return element;\n",
              "}\n",
              "\n",
              "// Max number of bytes which will be uploaded at a time.\n",
              "const MAX_PAYLOAD_SIZE = 100 * 1024;\n",
              "\n",
              "function _uploadFiles(inputId, outputId) {\n",
              "  const steps = uploadFilesStep(inputId, outputId);\n",
              "  const outputElement = document.getElementById(outputId);\n",
              "  // Cache steps on the outputElement to make it available for the next call\n",
              "  // to uploadFilesContinue from Python.\n",
              "  outputElement.steps = steps;\n",
              "\n",
              "  return _uploadFilesContinue(outputId);\n",
              "}\n",
              "\n",
              "// This is roughly an async generator (not supported in the browser yet),\n",
              "// where there are multiple asynchronous steps and the Python side is going\n",
              "// to poll for completion of each step.\n",
              "// This uses a Promise to block the python side on completion of each step,\n",
              "// then passes the result of the previous step as the input to the next step.\n",
              "function _uploadFilesContinue(outputId) {\n",
              "  const outputElement = document.getElementById(outputId);\n",
              "  const steps = outputElement.steps;\n",
              "\n",
              "  const next = steps.next(outputElement.lastPromiseValue);\n",
              "  return Promise.resolve(next.value.promise).then((value) => {\n",
              "    // Cache the last promise value to make it available to the next\n",
              "    // step of the generator.\n",
              "    outputElement.lastPromiseValue = value;\n",
              "    return next.value.response;\n",
              "  });\n",
              "}\n",
              "\n",
              "/**\n",
              " * Generator function which is called between each async step of the upload\n",
              " * process.\n",
              " * @param {string} inputId Element ID of the input file picker element.\n",
              " * @param {string} outputId Element ID of the output display.\n",
              " * @return {!Iterable<!Object>} Iterable of next steps.\n",
              " */\n",
              "function* uploadFilesStep(inputId, outputId) {\n",
              "  const inputElement = document.getElementById(inputId);\n",
              "  inputElement.disabled = false;\n",
              "\n",
              "  const outputElement = document.getElementById(outputId);\n",
              "  outputElement.innerHTML = '';\n",
              "\n",
              "  const pickedPromise = new Promise((resolve) => {\n",
              "    inputElement.addEventListener('change', (e) => {\n",
              "      resolve(e.target.files);\n",
              "    });\n",
              "  });\n",
              "\n",
              "  const cancel = document.createElement('button');\n",
              "  inputElement.parentElement.appendChild(cancel);\n",
              "  cancel.textContent = 'Cancel upload';\n",
              "  const cancelPromise = new Promise((resolve) => {\n",
              "    cancel.onclick = () => {\n",
              "      resolve(null);\n",
              "    };\n",
              "  });\n",
              "\n",
              "  // Wait for the user to pick the files.\n",
              "  const files = yield {\n",
              "    promise: Promise.race([pickedPromise, cancelPromise]),\n",
              "    response: {\n",
              "      action: 'starting',\n",
              "    }\n",
              "  };\n",
              "\n",
              "  cancel.remove();\n",
              "\n",
              "  // Disable the input element since further picks are not allowed.\n",
              "  inputElement.disabled = true;\n",
              "\n",
              "  if (!files) {\n",
              "    return {\n",
              "      response: {\n",
              "        action: 'complete',\n",
              "      }\n",
              "    };\n",
              "  }\n",
              "\n",
              "  for (const file of files) {\n",
              "    const li = document.createElement('li');\n",
              "    li.append(span(file.name, {fontWeight: 'bold'}));\n",
              "    li.append(span(\n",
              "        `(${file.type || 'n/a'}) - ${file.size} bytes, ` +\n",
              "        `last modified: ${\n",
              "            file.lastModifiedDate ? file.lastModifiedDate.toLocaleDateString() :\n",
              "                                    'n/a'} - `));\n",
              "    const percent = span('0% done');\n",
              "    li.appendChild(percent);\n",
              "\n",
              "    outputElement.appendChild(li);\n",
              "\n",
              "    const fileDataPromise = new Promise((resolve) => {\n",
              "      const reader = new FileReader();\n",
              "      reader.onload = (e) => {\n",
              "        resolve(e.target.result);\n",
              "      };\n",
              "      reader.readAsArrayBuffer(file);\n",
              "    });\n",
              "    // Wait for the data to be ready.\n",
              "    let fileData = yield {\n",
              "      promise: fileDataPromise,\n",
              "      response: {\n",
              "        action: 'continue',\n",
              "      }\n",
              "    };\n",
              "\n",
              "    // Use a chunked sending to avoid message size limits. See b/62115660.\n",
              "    let position = 0;\n",
              "    do {\n",
              "      const length = Math.min(fileData.byteLength - position, MAX_PAYLOAD_SIZE);\n",
              "      const chunk = new Uint8Array(fileData, position, length);\n",
              "      position += length;\n",
              "\n",
              "      const base64 = btoa(String.fromCharCode.apply(null, chunk));\n",
              "      yield {\n",
              "        response: {\n",
              "          action: 'append',\n",
              "          file: file.name,\n",
              "          data: base64,\n",
              "        },\n",
              "      };\n",
              "\n",
              "      let percentDone = fileData.byteLength === 0 ?\n",
              "          100 :\n",
              "          Math.round((position / fileData.byteLength) * 100);\n",
              "      percent.textContent = `${percentDone}% done`;\n",
              "\n",
              "    } while (position < fileData.byteLength);\n",
              "  }\n",
              "\n",
              "  // All done.\n",
              "  yield {\n",
              "    response: {\n",
              "      action: 'complete',\n",
              "    }\n",
              "  };\n",
              "}\n",
              "\n",
              "scope.google = scope.google || {};\n",
              "scope.google.colab = scope.google.colab || {};\n",
              "scope.google.colab._files = {\n",
              "  _uploadFiles,\n",
              "  _uploadFilesContinue,\n",
              "};\n",
              "})(self);\n",
              "</script> "
            ]
          },
          "metadata": {}
        },
        {
          "output_type": "stream",
          "name": "stdout",
          "text": [
            "Saving Airbnb_Open_Data.csv to Airbnb_Open_Data (1).csv\n"
          ]
        }
      ]
    },
    {
      "cell_type": "code",
      "execution_count": null,
      "metadata": {
        "colab": {
          "base_uri": "https://localhost:8080/"
        },
        "id": "zfF_7V8fgau5",
        "outputId": "8a82a747-e2c7-445b-8f98-3f9738e4b23e"
      },
      "outputs": [
        {
          "output_type": "stream",
          "name": "stdout",
          "text": [
            "Total de ventas: $265.0\n"
          ]
        }
      ],
      "source": [
        "import csv\n",
        "# Abre el archivo CSV\n",
        "with open('datos_ventas.csv', 'r') as file:\n",
        "  # Crea un objeto que lee CSV\n",
        "  lector = csv.reader(file)\n",
        "  # Omite el encabezado\n",
        "  next(lector)\n",
        "  # Recorre las filas y extrae algunas conclusiones\n",
        "  total_ventas = 0\n",
        "  for fila in lector:\n",
        "    cantidad_ventas = float(fila[3])\n",
        "    total_ventas += cantidad_ventas\n",
        "\n",
        "\n",
        "# Imprime el total de ventas\n",
        "print(f\"Total de ventas: ${total_ventas}\")"
      ]
    },
    {
      "cell_type": "code",
      "source": [
        "import pandas as pd\n",
        "# Lee el archivo CSV y lo vuelve un DataFrame\n",
        "df = pd.read_csv('datos_ventas.csv')\n",
        "\n",
        "# Suma todas las ventas\n",
        "total_ventas = df['cantidad_ventas'].sum()\n",
        "# Imprime el total de ventas\n",
        "print(f\"Total de ventas: ${total_ventas}\")"
      ],
      "metadata": {
        "colab": {
          "base_uri": "https://localhost:8080/"
        },
        "id": "Fvx6SZ8HknxB",
        "outputId": "c2f801c4-34dd-42f5-e511-67e04f5e732e"
      },
      "execution_count": null,
      "outputs": [
        {
          "output_type": "stream",
          "name": "stdout",
          "text": [
            "Total de ventas: $265\n"
          ]
        }
      ]
    },
    {
      "cell_type": "code",
      "source": [
        "import openpyxl\n",
        "# Cargar el archivo Excel\n",
        "workbook = openpyxl.load_workbook('edades.xlsx')\n",
        "# Seleccione la hoja de calculo\n",
        "hoja_calculo = workbook['Hoja1']\n",
        "# Recorrer las filas e imprimir los datos\n",
        "edades = list()\n",
        "for row in hoja_calculo.iter_rows(values_only=True):\n",
        "  nombre , edad , genero = row\n",
        "import openpyxl\n",
        "# Cargar el archivo Excel\n",
        "workbook = openpyxl.load_workbook('edades.xlsx')\n",
        "# Seleccione la hoja de calculo\n",
        "hoja_calculo = workbook['Hoja1']\n",
        "# Recorrer las filas e imprimir los datos\n",
        "\n",
        "edades = list()\n",
        "for row in hoja_calculo.iter_rows(min_row=2,values_only=True):\n",
        "  nombre , edad , genero = row\n",
        "  edades.append(edad)\n",
        "  print(f\"Nombre: {nombre}, Edad: {edad}, Genero: {genero}\")\n",
        "\n",
        "print(\"El promedio de edad es de \" + f\"{sum(edades)/len(edades)} anos\")\n"
      ],
      "metadata": {
        "colab": {
          "base_uri": "https://localhost:8080/"
        },
        "id": "m_EmzZ-Vl4vV",
        "outputId": "4db1b555-662f-4c66-cee9-65209d0ec9e0"
      },
      "execution_count": null,
      "outputs": [
        {
          "output_type": "stream",
          "name": "stdout",
          "text": [
            "Nombre: Alice, Edad: 24, Genero: Mujer\n",
            "Nombre: Bob, Edad: 32, Genero:  Hombre\n",
            "Nombre:  Charlie , Edad: 45, Genero: Hombre\n",
            "El promedio de edad es de33.666666666666664 anos\n"
          ]
        }
      ]
    },
    {
      "cell_type": "code",
      "source": [
        "import pandas as pd\n",
        "# Cargar el fichero Excel en un DataFrame de Pandas\n",
        "df = pd.read_excel('edades.xlsx', sheet_name='Hoja1')\n",
        "\n",
        "print(df.columns)\n",
        "#Calcular la edad media\n",
        "prom_edad = df['Edad'].mean()\n",
        "\n",
        "\n",
        "print(\"El promedio de edad es de:\", prom_edad)"
      ],
      "metadata": {
        "colab": {
          "base_uri": "https://localhost:8080/"
        },
        "id": "QscF_co9G88K",
        "outputId": "63b40592-2077-459b-cb61-149c7a8ec21b"
      },
      "execution_count": null,
      "outputs": [
        {
          "output_type": "stream",
          "name": "stdout",
          "text": [
            "Index(['Nombre', 'Edad', 'Género'], dtype='object')\n",
            "El promedio de edad es de: 33.666666666666664\n"
          ]
        }
      ]
    },
    {
      "cell_type": "code",
      "source": [
        "import xml.etree.ElementTree as ET\n",
        "\n",
        "# Analisis de datos XML\n",
        "tree = ET.parse('libros.xml')\n",
        "root = tree.getroot ()\n",
        "\n",
        "# Extraccion de informacion pertinente\n",
        "total_libros = len(root.findall('libro'))\n",
        "total_precio = sum(float(libro.find('precio').text)\n",
        "\n",
        "for libro in root.findall('libro'))\n",
        "\n",
        "precio_medio = total_precio / total_libros\n",
        "\n",
        "# Visualizacion de la informacion extraida\n",
        "print(f'El total de libros es: {total_libros}')\n",
        "print(f'El precio total es: ${total_precio :.2f}')\n",
        "print(f'El precio medio es: ${precio_medio :.2f}')\n"
      ],
      "metadata": {
        "colab": {
          "base_uri": "https://localhost:8080/"
        },
        "id": "R46GgiLdJ_LZ",
        "outputId": "63b26147-638d-4f35-d211-dfcdb936a7e6"
      },
      "execution_count": null,
      "outputs": [
        {
          "output_type": "stream",
          "name": "stdout",
          "text": [
            "El total de libros es: 3\n",
            "El precio total es: $119.97\n",
            "El precio medio es: $39.99\n"
          ]
        }
      ]
    },
    {
      "cell_type": "code",
      "source": [
        "import pandas as pd\n",
        "# Lectura del archivo XML en un DataFrame\n",
        "df = pd.read_xml('libros.xml', xpath='libro')\n",
        "\n",
        "# Extraccion de informacion pertinente\n",
        "total_libros = df.shape [0]\n",
        "total_precio=df['precio'].sum()\n",
        "potal_precio =df['precio'].mean()\n",
        "\n",
        "\n",
        "# Visualizacion de la informacion extraida\n",
        "print(f'El total de libros es: {total_libros}')\n",
        "print(f'El total de libros es: {total_libros}')\n",
        "print(f'El precio total es: ${total_precio :.2f}')\n"
      ],
      "metadata": {
        "colab": {
          "base_uri": "https://localhost:8080/"
        },
        "id": "0PbbUMkxLVt8",
        "outputId": "29be2566-c97a-4322-8d03-8deed41b26e5"
      },
      "execution_count": null,
      "outputs": [
        {
          "output_type": "stream",
          "name": "stdout",
          "text": [
            "El total de libros es: 3\n",
            "El total de libros es: 3\n",
            "El precio total es: $119.97\n"
          ]
        }
      ]
    },
    {
      "cell_type": "code",
      "source": [
        "import json\n",
        "#Leer datos del archivo JSON\n",
        "with open('pedidos_clientes.json', 'r') as f:\n",
        "          data = json.load(f)\n",
        "\n",
        "# Extraccion de informacion pertinente\n",
        "pedidos = data['pedidos']\n",
        "total_pedidos = len(pedidos)\n",
        "total_cantidad = sum([pedido['cantidad']\n",
        "\n",
        "for pedido in pedidos])\n",
        "total_ingresos = sum([pedido['cantidad'] * pedido['precio']\n",
        "for pedido in pedidos])\n",
        "\n",
        "# Visualizacion de la informacion extraida\n",
        "print(f'Total de pedidos: {total_pedidos}')\n",
        "print(f'Cantidad total de ventas: {total_cantidad}')\n",
        "print(f'Total de ingresos: ${total_ingresos :.2f}')\n"
      ],
      "metadata": {
        "colab": {
          "base_uri": "https://localhost:8080/"
        },
        "id": "ARqe6qNLL3Ip",
        "outputId": "c9459dfb-084e-4f15-aeda-c8515f3803ee"
      },
      "execution_count": null,
      "outputs": [
        {
          "output_type": "stream",
          "name": "stdout",
          "text": [
            "Total de pedidos: 3\n",
            "Cantidad total de ventas: 6\n",
            "Total de ingresos: $5199.94\n"
          ]
        }
      ]
    },
    {
      "source": [
        "import pandas as pd\n",
        "import json\n",
        "\n",
        "# Leer datos JSON\n",
        "with open('pedidos_clientes.json', 'r') as f:\n",
        "    data = json.load(f)\n",
        "\n",
        "# Acceder a la lista de pedidos dentro de los datos cargados\n",
        "pedidos_list = data['pedidos']\n",
        "\n",
        "# Crear un nuevo DataFrame a partir de la lista de pedidos\n",
        "df_pedidos = pd.DataFrame(pedidos_list)\n",
        "\n",
        "# Imprimir las columnas del nuevo DataFrame para verificar\n",
        "print(df_pedidos.columns)\n",
        "\n",
        "# Ahora puedes acceder a las columnas 'cantidad' y 'precio' en df_pedidos\n",
        "total_pedidos = df_pedidos.shape[0]\n",
        "total_cantidad = df_pedidos['cantidad'].sum()\n",
        "total_ingresos = (df_pedidos['cantidad'] * df_pedidos['precio']).sum()\n",
        "\n",
        "# Visualizacion de la informacion extraida\n",
        "print(f'Total de pedidos: {total_pedidos}')\n",
        "print(f'Cantidad total de ventas: {total_cantidad}')\n",
        "print(f'Total de ingresos: ${total_ingresos :.2f}')"
      ],
      "cell_type": "code",
      "metadata": {
        "colab": {
          "base_uri": "https://localhost:8080/"
        },
        "id": "EEob1k19PsyB",
        "outputId": "e7c724d3-6eea-4681-f60d-03ea985641df"
      },
      "execution_count": null,
      "outputs": [
        {
          "output_type": "stream",
          "name": "stdout",
          "text": [
            "Index(['pedido_id', 'nombre_cliente', 'nombre_producto', 'cantidad', 'precio'], dtype='object')\n",
            "Total de pedidos: 3\n",
            "Cantidad total de ventas: 6\n",
            "Total de ingresos: $5199.94\n"
          ]
        }
      ]
    },
    {
      "cell_type": "code",
      "source": [
        "import pandas as pd\n",
        "# Creando una Serie\n",
        "serie = pd.Series([1, 2, 3, 4])\n",
        "print(serie)\n",
        "\n",
        "# Creando un DataFrame\n",
        "data = {'Nombres':['Ana', 'Juan', 'Luis'], 'Edades': [25, 30, 22]}\n",
        "df = pd.DataFrame(data)\n",
        "print(df)\n",
        "\n",
        "\n",
        "\n",
        "# Seleccionar una columna\n",
        "edades = df['Edades']\n",
        "print (edades)\n",
        "# Seleccionar multiples columnas\n",
        "subset = df[['Nombres', 'Edades']]\n",
        "print(subset)\n",
        "# Seleccionar filas por indice\n",
        "primera_fila = df.loc[0]\n",
        "print(primera_fila)\n",
        "\n",
        "# Filtrar por valores de una columna\n",
        "mayores_de_25 = df[df['Edades'] > 25]\n",
        "print(mayores_de_25)\n",
        "\n",
        "#Ordenar por una columna\n",
        "df_ordenado = df.sort_values(by='Edades', ascending=True)\n",
        "print(df_ordenado)\n",
        "\n",
        "# Agregar columna\n",
        "df['Profesion']=['Ingenieria','Doctor','Abogado']\n",
        "print(df)\n",
        "\n",
        "\n"
      ],
      "metadata": {
        "colab": {
          "base_uri": "https://localhost:8080/"
        },
        "id": "y1rrSlthQOzP",
        "outputId": "d4ec0feb-2a59-447e-841a-ab41c52e2bb4"
      },
      "execution_count": 5,
      "outputs": [
        {
          "output_type": "stream",
          "name": "stdout",
          "text": [
            "0    1\n",
            "1    2\n",
            "2    3\n",
            "3    4\n",
            "dtype: int64\n",
            "  Nombres  Edades\n",
            "0     Ana      25\n",
            "1    Juan      30\n",
            "2    Luis      22\n",
            "0    25\n",
            "1    30\n",
            "2    22\n",
            "Name: Edades, dtype: int64\n",
            "  Nombres  Edades\n",
            "0     Ana      25\n",
            "1    Juan      30\n",
            "2    Luis      22\n",
            "Nombres    Ana\n",
            "Edades      25\n",
            "Name: 0, dtype: object\n",
            "  Nombres  Edades\n",
            "1    Juan      30\n",
            "  Nombres  Edades\n",
            "2    Luis      22\n",
            "0     Ana      25\n",
            "1    Juan      30\n",
            "  Nombres  Edades   Profesion\n",
            "0     Ana      25  Ingenieria\n",
            "1    Juan      30      Doctor\n",
            "2    Luis      22     Abogado\n"
          ]
        }
      ]
    },
    {
      "cell_type": "code",
      "source": [
        "# Proporciona un resumen estadistico de las columnas numericas\n",
        "print(df.describe ())\n",
        "total_edades = df['Edades'].sum()\n",
        "promedio_edades = df['Edades'].mean()\n",
        "print(f\"Total de edades: {total_edades}\")\n",
        "print(f\"Promedio de edades: {promedio_edades}\")"
      ],
      "metadata": {
        "colab": {
          "base_uri": "https://localhost:8080/"
        },
        "id": "fZseP50zy9fc",
        "outputId": "5b064059-c443-4022-f829-a71294929134"
      },
      "execution_count": 10,
      "outputs": [
        {
          "output_type": "stream",
          "name": "stdout",
          "text": [
            "          Edades\n",
            "count   3.000000\n",
            "mean   25.666667\n",
            "std     4.041452\n",
            "min    22.000000\n",
            "25%    23.500000\n",
            "50%    25.000000\n",
            "75%    27.500000\n",
            "max    30.000000\n",
            "Total de edades: 77\n",
            "Promedio de edades: 25.666666666666668\n"
          ]
        }
      ]
    },
    {
      "cell_type": "code",
      "source": [
        "# Agrupar por una columna y calcular la media de otra columna\n",
        "promedio_por_profesion = df.groupby('Profesion')['Edades'].mean()\n",
        "print(promedio_por_profesion)\n",
        "df_pivot = df.pivot(index='Nombres',columns='Profesion',values='Edades')\n",
        "print(df_pivot)"
      ],
      "metadata": {
        "colab": {
          "base_uri": "https://localhost:8080/"
        },
        "id": "yEaSCaT2z8fN",
        "outputId": "168fcb5b-f524-42b0-8846-e7c68ec8335a"
      },
      "execution_count": 12,
      "outputs": [
        {
          "output_type": "stream",
          "name": "stdout",
          "text": [
            "Profesion\n",
            "Abogado       22.0\n",
            "Doctor        30.0\n",
            "Ingenieria    25.0\n",
            "Name: Edades, dtype: float64\n",
            "Profesion  Abogado  Doctor  Ingenieria\n",
            "Nombres                               \n",
            "Ana            NaN     NaN        25.0\n",
            "Juan           NaN    30.0         NaN\n",
            "Luis          22.0     NaN         NaN\n"
          ]
        }
      ]
    },
    {
      "cell_type": "code",
      "source": [
        "#combinar data frame\n",
        "df2 = pd.DataFrame({'Nombres':['Ana', 'Juan', 'Pedro'],'Salarios': [50000 , 60000, 55000]})\n",
        "print(df2)\n",
        "\n",
        "df_combinado = pd.merge(df, df2 , on='Nombres', how='outer')\n",
        "print(df_combinado)"
      ],
      "metadata": {
        "colab": {
          "base_uri": "https://localhost:8080/"
        },
        "id": "CGbjpmHf0pU-",
        "outputId": "ed0d8bfc-6dd2-4df5-fdf1-4d8d160c0e2b"
      },
      "execution_count": 14,
      "outputs": [
        {
          "output_type": "stream",
          "name": "stdout",
          "text": [
            "  Nombres  Salarios\n",
            "0     Ana     50000\n",
            "1    Juan     60000\n",
            "2   Pedro     55000\n",
            "  Nombres  Edades   Profesion  Salarios\n",
            "0     Ana    25.0  Ingenieria   50000.0\n",
            "1    Juan    30.0      Doctor   60000.0\n",
            "2    Luis    22.0     Abogado       NaN\n",
            "3   Pedro     NaN         NaN   55000.0\n"
          ]
        }
      ]
    },
    {
      "cell_type": "code",
      "source": [
        "#https://www.kaggle.com/datasets/arianazmoudeh/airbnbopendata?resource=download\n",
        "import pandas as pd\n",
        "df_raw = pd.read_csv('Airbnb_Open_Data.csv')\n",
        "print(df_raw.head ())\n",
        "\n",
        "df_raw = df_raw.drop([\"country\", \"country code\"], axis='columns')\n",
        "print(df_raw.head ())\n",
        "\n"
      ],
      "metadata": {
        "colab": {
          "base_uri": "https://localhost:8080/",
          "height": 1000
        },
        "id": "3tw8gRVy1zSE",
        "outputId": "e89660a1-6c2b-4fac-995b-04d49bb9398f"
      },
      "execution_count": 30,
      "outputs": [
        {
          "output_type": "stream",
          "name": "stdout",
          "text": [
            "        id                                              NAME      host id  \\\n",
            "0  1001254                Clean & quiet apt home by the park  80014485718   \n",
            "1  1002102                             Skylit Midtown Castle  52335172823   \n",
            "2  1002403               THE VILLAGE OF HARLEM....NEW YORK !  78829239556   \n",
            "3  1002755                                               NaN  85098326012   \n",
            "4  1003689  Entire Apt: Spacious Studio/Loft by central park  92037596077   \n",
            "\n",
            "  host_identity_verified host name neighbourhood group neighbourhood  \\\n",
            "0            unconfirmed  Madaline            Brooklyn    Kensington   \n",
            "1               verified     Jenna           Manhattan       Midtown   \n",
            "2                    NaN     Elise           Manhattan        Harlem   \n",
            "3            unconfirmed     Garry            Brooklyn  Clinton Hill   \n",
            "4               verified    Lyndon           Manhattan   East Harlem   \n",
            "\n",
            "        lat      long        country  ... service fee minimum nights  \\\n",
            "0  40.64749 -73.97237  United States  ...       $193            10.0   \n",
            "1  40.75362 -73.98377  United States  ...        $28            30.0   \n",
            "2  40.80902 -73.94190  United States  ...       $124             3.0   \n",
            "3  40.68514 -73.95976  United States  ...        $74            30.0   \n",
            "4  40.79851 -73.94399  United States  ...        $41            10.0   \n",
            "\n",
            "  number of reviews last review  reviews per month review rate number  \\\n",
            "0               9.0  10/19/2021               0.21                4.0   \n",
            "1              45.0   5/21/2022               0.38                4.0   \n",
            "2               0.0         NaN                NaN                5.0   \n",
            "3             270.0    7/5/2019               4.64                4.0   \n",
            "4               9.0  11/19/2018               0.10                3.0   \n",
            "\n",
            "  calculated host listings count  availability 365  \\\n",
            "0                            6.0             286.0   \n",
            "1                            2.0             228.0   \n",
            "2                            1.0             352.0   \n",
            "3                            1.0             322.0   \n",
            "4                            1.0             289.0   \n",
            "\n",
            "                                         house_rules license  \n",
            "0  Clean up and treat the home the way you'd like...     NaN  \n",
            "1  Pet friendly but please confirm with me if the...     NaN  \n",
            "2  I encourage you to use my kitchen, cooking and...     NaN  \n",
            "3                                                NaN     NaN  \n",
            "4  Please no smoking in the house, porch or on th...     NaN  \n",
            "\n",
            "[5 rows x 26 columns]\n",
            "        id                                              NAME      host id  \\\n",
            "0  1001254                Clean & quiet apt home by the park  80014485718   \n",
            "1  1002102                             Skylit Midtown Castle  52335172823   \n",
            "2  1002403               THE VILLAGE OF HARLEM....NEW YORK !  78829239556   \n",
            "3  1002755                                               NaN  85098326012   \n",
            "4  1003689  Entire Apt: Spacious Studio/Loft by central park  92037596077   \n",
            "\n",
            "  host_identity_verified host name neighbourhood group neighbourhood  \\\n",
            "0            unconfirmed  Madaline            Brooklyn    Kensington   \n",
            "1               verified     Jenna           Manhattan       Midtown   \n",
            "2                    NaN     Elise           Manhattan        Harlem   \n",
            "3            unconfirmed     Garry            Brooklyn  Clinton Hill   \n",
            "4               verified    Lyndon           Manhattan   East Harlem   \n",
            "\n",
            "        lat      long instant_bookable  ... service fee minimum nights  \\\n",
            "0  40.64749 -73.97237            False  ...       $193            10.0   \n",
            "1  40.75362 -73.98377            False  ...        $28            30.0   \n",
            "2  40.80902 -73.94190             True  ...       $124             3.0   \n",
            "3  40.68514 -73.95976             True  ...        $74            30.0   \n",
            "4  40.79851 -73.94399            False  ...        $41            10.0   \n",
            "\n",
            "   number of reviews last review reviews per month  review rate number  \\\n",
            "0                9.0  10/19/2021              0.21                 4.0   \n",
            "1               45.0   5/21/2022              0.38                 4.0   \n",
            "2                0.0         NaN               NaN                 5.0   \n",
            "3              270.0    7/5/2019              4.64                 4.0   \n",
            "4                9.0  11/19/2018              0.10                 3.0   \n",
            "\n",
            "   calculated host listings count availability 365  \\\n",
            "0                             6.0            286.0   \n",
            "1                             2.0            228.0   \n",
            "2                             1.0            352.0   \n",
            "3                             1.0            322.0   \n",
            "4                             1.0            289.0   \n",
            "\n",
            "                                         house_rules  license  \n",
            "0  Clean up and treat the home the way you'd like...      NaN  \n",
            "1  Pet friendly but please confirm with me if the...      NaN  \n",
            "2  I encourage you to use my kitchen, cooking and...      NaN  \n",
            "3                                                NaN      NaN  \n",
            "4  Please no smoking in the house, porch or on th...      NaN  \n",
            "\n",
            "[5 rows x 24 columns]\n"
          ]
        },
        {
          "output_type": "stream",
          "name": "stderr",
          "text": [
            "<ipython-input-30-68ae0c41a5b6>:3: DtypeWarning: Columns (25) have mixed types. Specify dtype option on import or set low_memory=False.\n",
            "  df_raw = pd.read_csv('Airbnb_Open_Data.csv')\n"
          ]
        },
        {
          "output_type": "error",
          "ename": "NameError",
          "evalue": "name 'raw' is not defined",
          "traceback": [
            "\u001b[0;31m---------------------------------------------------------------------------\u001b[0m",
            "\u001b[0;31mNameError\u001b[0m                                 Traceback (most recent call last)",
            "\u001b[0;32m<ipython-input-30-68ae0c41a5b6>\u001b[0m in \u001b[0;36m<cell line: 0>\u001b[0;34m()\u001b[0m\n\u001b[1;32m      9\u001b[0m \u001b[0mcols\u001b[0m \u001b[0;34m=\u001b[0m \u001b[0;34m[\u001b[0m\u001b[0;34m'price'\u001b[0m\u001b[0;34m,\u001b[0m \u001b[0;34m'service fee'\u001b[0m\u001b[0;34m]\u001b[0m\u001b[0;34m\u001b[0m\u001b[0;34m\u001b[0m\u001b[0m\n\u001b[1;32m     10\u001b[0m \u001b[0;32mfor\u001b[0m \u001b[0mcol\u001b[0m \u001b[0;32min\u001b[0m \u001b[0mcols\u001b[0m\u001b[0;34m:\u001b[0m\u001b[0;34m\u001b[0m\u001b[0;34m\u001b[0m\u001b[0m\n\u001b[0;32m---> 11\u001b[0;31m   \u001b[0mraw\u001b[0m\u001b[0;34m[\u001b[0m\u001b[0mcol\u001b[0m\u001b[0;34m]\u001b[0m \u001b[0;34m=\u001b[0m \u001b[0mdf_raw\u001b[0m\u001b[0;34m[\u001b[0m\u001b[0mcol\u001b[0m\u001b[0;34m]\u001b[0m\u001b[0;34m.\u001b[0m\u001b[0mstr\u001b[0m\u001b[0;34m.\u001b[0m\u001b[0mreplace\u001b[0m\u001b[0;34m(\u001b[0m\u001b[0;34m'$'\u001b[0m\u001b[0;34m,\u001b[0m \u001b[0;34m''\u001b[0m\u001b[0;34m)\u001b[0m\u001b[0;34m\u001b[0m\u001b[0;34m\u001b[0m\u001b[0m\n\u001b[0m\u001b[1;32m     12\u001b[0m   \u001b[0mdf_raw\u001b[0m\u001b[0;34m[\u001b[0m\u001b[0mcol\u001b[0m\u001b[0;34m]\u001b[0m \u001b[0;34m=\u001b[0m \u001b[0mdf_raw\u001b[0m\u001b[0;34m[\u001b[0m\u001b[0mcol\u001b[0m\u001b[0;34m]\u001b[0m\u001b[0;34m.\u001b[0m\u001b[0mstr\u001b[0m\u001b[0;34m.\u001b[0m\u001b[0mreplace\u001b[0m\u001b[0;34m(\u001b[0m\u001b[0;34m','\u001b[0m\u001b[0;34m,\u001b[0m \u001b[0;34m''\u001b[0m\u001b[0;34m)\u001b[0m\u001b[0;34m\u001b[0m\u001b[0;34m\u001b[0m\u001b[0m\n\u001b[1;32m     13\u001b[0m   \u001b[0mdf_raw\u001b[0m\u001b[0;34m[\u001b[0m\u001b[0mcol\u001b[0m\u001b[0;34m]\u001b[0m \u001b[0;34m=\u001b[0m \u001b[0mpd\u001b[0m\u001b[0;34m.\u001b[0m\u001b[0mto_numeric\u001b[0m\u001b[0;34m(\u001b[0m\u001b[0mdf_raw\u001b[0m\u001b[0;34m[\u001b[0m\u001b[0mcol\u001b[0m\u001b[0;34m]\u001b[0m\u001b[0;34m)\u001b[0m\u001b[0;34m\u001b[0m\u001b[0;34m\u001b[0m\u001b[0m\n",
            "\u001b[0;31mNameError\u001b[0m: name 'raw' is not defined"
          ]
        }
      ]
    },
    {
      "cell_type": "code",
      "source": [
        "import pandas as pd\n",
        "\n",
        "cols = ['price', 'service fee']\n",
        "for col in cols:\n",
        "  df_raw[col] = df_raw[col].str.replace('$', '')\n",
        "  df_raw[col] = df_raw[col].str.replace(',', '')\n",
        "  df_raw[col] = pd.to_numeric(df_raw[col])\n",
        "\n"
      ],
      "metadata": {
        "colab": {
          "base_uri": "https://localhost:8080/",
          "height": 356
        },
        "id": "uW9_C5KU7RPT",
        "outputId": "b885233f-b276-4c3b-a1ad-c177beb2ff0a"
      },
      "execution_count": 33,
      "outputs": [
        {
          "output_type": "error",
          "ename": "AttributeError",
          "evalue": "Can only use .str accessor with string values!",
          "traceback": [
            "\u001b[0;31m---------------------------------------------------------------------------\u001b[0m",
            "\u001b[0;31mAttributeError\u001b[0m                            Traceback (most recent call last)",
            "\u001b[0;32m<ipython-input-33-6a30b18e0b5b>\u001b[0m in \u001b[0;36m<cell line: 0>\u001b[0;34m()\u001b[0m\n\u001b[1;32m      3\u001b[0m \u001b[0mcols\u001b[0m \u001b[0;34m=\u001b[0m \u001b[0;34m[\u001b[0m\u001b[0;34m'price'\u001b[0m\u001b[0;34m,\u001b[0m \u001b[0;34m'service fee'\u001b[0m\u001b[0;34m]\u001b[0m\u001b[0;34m\u001b[0m\u001b[0;34m\u001b[0m\u001b[0m\n\u001b[1;32m      4\u001b[0m \u001b[0;32mfor\u001b[0m \u001b[0mcol\u001b[0m \u001b[0;32min\u001b[0m \u001b[0mcols\u001b[0m\u001b[0;34m:\u001b[0m\u001b[0;34m\u001b[0m\u001b[0;34m\u001b[0m\u001b[0m\n\u001b[0;32m----> 5\u001b[0;31m   \u001b[0mdf_raw\u001b[0m\u001b[0;34m[\u001b[0m\u001b[0mcol\u001b[0m\u001b[0;34m]\u001b[0m \u001b[0;34m=\u001b[0m \u001b[0mdf_raw\u001b[0m\u001b[0;34m[\u001b[0m\u001b[0mcol\u001b[0m\u001b[0;34m]\u001b[0m\u001b[0;34m.\u001b[0m\u001b[0mstr\u001b[0m\u001b[0;34m.\u001b[0m\u001b[0mreplace\u001b[0m\u001b[0;34m(\u001b[0m\u001b[0;34m'$'\u001b[0m\u001b[0;34m,\u001b[0m \u001b[0;34m''\u001b[0m\u001b[0;34m)\u001b[0m\u001b[0;34m\u001b[0m\u001b[0;34m\u001b[0m\u001b[0m\n\u001b[0m\u001b[1;32m      6\u001b[0m   \u001b[0mdf_raw\u001b[0m\u001b[0;34m[\u001b[0m\u001b[0mcol\u001b[0m\u001b[0;34m]\u001b[0m \u001b[0;34m=\u001b[0m \u001b[0mdf_raw\u001b[0m\u001b[0;34m[\u001b[0m\u001b[0mcol\u001b[0m\u001b[0;34m]\u001b[0m\u001b[0;34m.\u001b[0m\u001b[0mstr\u001b[0m\u001b[0;34m.\u001b[0m\u001b[0mreplace\u001b[0m\u001b[0;34m(\u001b[0m\u001b[0;34m','\u001b[0m\u001b[0;34m,\u001b[0m \u001b[0;34m''\u001b[0m\u001b[0;34m)\u001b[0m\u001b[0;34m\u001b[0m\u001b[0;34m\u001b[0m\u001b[0m\n\u001b[1;32m      7\u001b[0m   \u001b[0mdf_raw\u001b[0m\u001b[0;34m[\u001b[0m\u001b[0mcol\u001b[0m\u001b[0;34m]\u001b[0m \u001b[0;34m=\u001b[0m \u001b[0mpd\u001b[0m\u001b[0;34m.\u001b[0m\u001b[0mto_numeric\u001b[0m\u001b[0;34m(\u001b[0m\u001b[0mdf_raw\u001b[0m\u001b[0;34m[\u001b[0m\u001b[0mcol\u001b[0m\u001b[0;34m]\u001b[0m\u001b[0;34m)\u001b[0m\u001b[0;34m\u001b[0m\u001b[0;34m\u001b[0m\u001b[0m\n",
            "\u001b[0;32m/usr/local/lib/python3.11/dist-packages/pandas/core/generic.py\u001b[0m in \u001b[0;36m__getattr__\u001b[0;34m(self, name)\u001b[0m\n\u001b[1;32m   6297\u001b[0m         ):\n\u001b[1;32m   6298\u001b[0m             \u001b[0;32mreturn\u001b[0m \u001b[0mself\u001b[0m\u001b[0;34m[\u001b[0m\u001b[0mname\u001b[0m\u001b[0;34m]\u001b[0m\u001b[0;34m\u001b[0m\u001b[0;34m\u001b[0m\u001b[0m\n\u001b[0;32m-> 6299\u001b[0;31m         \u001b[0;32mreturn\u001b[0m \u001b[0mobject\u001b[0m\u001b[0;34m.\u001b[0m\u001b[0m__getattribute__\u001b[0m\u001b[0;34m(\u001b[0m\u001b[0mself\u001b[0m\u001b[0;34m,\u001b[0m \u001b[0mname\u001b[0m\u001b[0;34m)\u001b[0m\u001b[0;34m\u001b[0m\u001b[0;34m\u001b[0m\u001b[0m\n\u001b[0m\u001b[1;32m   6300\u001b[0m \u001b[0;34m\u001b[0m\u001b[0m\n\u001b[1;32m   6301\u001b[0m     \u001b[0;34m@\u001b[0m\u001b[0mfinal\u001b[0m\u001b[0;34m\u001b[0m\u001b[0;34m\u001b[0m\u001b[0m\n",
            "\u001b[0;32m/usr/local/lib/python3.11/dist-packages/pandas/core/accessor.py\u001b[0m in \u001b[0;36m__get__\u001b[0;34m(self, obj, cls)\u001b[0m\n\u001b[1;32m    222\u001b[0m             \u001b[0;31m# we're accessing the attribute of the class, i.e., Dataset.geo\u001b[0m\u001b[0;34m\u001b[0m\u001b[0;34m\u001b[0m\u001b[0m\n\u001b[1;32m    223\u001b[0m             \u001b[0;32mreturn\u001b[0m \u001b[0mself\u001b[0m\u001b[0;34m.\u001b[0m\u001b[0m_accessor\u001b[0m\u001b[0;34m\u001b[0m\u001b[0;34m\u001b[0m\u001b[0m\n\u001b[0;32m--> 224\u001b[0;31m         \u001b[0maccessor_obj\u001b[0m \u001b[0;34m=\u001b[0m \u001b[0mself\u001b[0m\u001b[0;34m.\u001b[0m\u001b[0m_accessor\u001b[0m\u001b[0;34m(\u001b[0m\u001b[0mobj\u001b[0m\u001b[0;34m)\u001b[0m\u001b[0;34m\u001b[0m\u001b[0;34m\u001b[0m\u001b[0m\n\u001b[0m\u001b[1;32m    225\u001b[0m         \u001b[0;31m# Replace the property with the accessor object. Inspired by:\u001b[0m\u001b[0;34m\u001b[0m\u001b[0;34m\u001b[0m\u001b[0m\n\u001b[1;32m    226\u001b[0m         \u001b[0;31m# https://www.pydanny.com/cached-property.html\u001b[0m\u001b[0;34m\u001b[0m\u001b[0;34m\u001b[0m\u001b[0m\n",
            "\u001b[0;32m/usr/local/lib/python3.11/dist-packages/pandas/core/strings/accessor.py\u001b[0m in \u001b[0;36m__init__\u001b[0;34m(self, data)\u001b[0m\n\u001b[1;32m    189\u001b[0m         \u001b[0;32mfrom\u001b[0m \u001b[0mpandas\u001b[0m\u001b[0;34m.\u001b[0m\u001b[0mcore\u001b[0m\u001b[0;34m.\u001b[0m\u001b[0marrays\u001b[0m\u001b[0;34m.\u001b[0m\u001b[0mstring_\u001b[0m \u001b[0;32mimport\u001b[0m \u001b[0mStringDtype\u001b[0m\u001b[0;34m\u001b[0m\u001b[0;34m\u001b[0m\u001b[0m\n\u001b[1;32m    190\u001b[0m \u001b[0;34m\u001b[0m\u001b[0m\n\u001b[0;32m--> 191\u001b[0;31m         \u001b[0mself\u001b[0m\u001b[0;34m.\u001b[0m\u001b[0m_inferred_dtype\u001b[0m \u001b[0;34m=\u001b[0m \u001b[0mself\u001b[0m\u001b[0;34m.\u001b[0m\u001b[0m_validate\u001b[0m\u001b[0;34m(\u001b[0m\u001b[0mdata\u001b[0m\u001b[0;34m)\u001b[0m\u001b[0;34m\u001b[0m\u001b[0;34m\u001b[0m\u001b[0m\n\u001b[0m\u001b[1;32m    192\u001b[0m         \u001b[0mself\u001b[0m\u001b[0;34m.\u001b[0m\u001b[0m_is_categorical\u001b[0m \u001b[0;34m=\u001b[0m \u001b[0misinstance\u001b[0m\u001b[0;34m(\u001b[0m\u001b[0mdata\u001b[0m\u001b[0;34m.\u001b[0m\u001b[0mdtype\u001b[0m\u001b[0;34m,\u001b[0m \u001b[0mCategoricalDtype\u001b[0m\u001b[0;34m)\u001b[0m\u001b[0;34m\u001b[0m\u001b[0;34m\u001b[0m\u001b[0m\n\u001b[1;32m    193\u001b[0m         \u001b[0mself\u001b[0m\u001b[0;34m.\u001b[0m\u001b[0m_is_string\u001b[0m \u001b[0;34m=\u001b[0m \u001b[0misinstance\u001b[0m\u001b[0;34m(\u001b[0m\u001b[0mdata\u001b[0m\u001b[0;34m.\u001b[0m\u001b[0mdtype\u001b[0m\u001b[0;34m,\u001b[0m \u001b[0mStringDtype\u001b[0m\u001b[0;34m)\u001b[0m\u001b[0;34m\u001b[0m\u001b[0;34m\u001b[0m\u001b[0m\n",
            "\u001b[0;32m/usr/local/lib/python3.11/dist-packages/pandas/core/strings/accessor.py\u001b[0m in \u001b[0;36m_validate\u001b[0;34m(data)\u001b[0m\n\u001b[1;32m    243\u001b[0m \u001b[0;34m\u001b[0m\u001b[0m\n\u001b[1;32m    244\u001b[0m         \u001b[0;32mif\u001b[0m \u001b[0minferred_dtype\u001b[0m \u001b[0;32mnot\u001b[0m \u001b[0;32min\u001b[0m \u001b[0mallowed_types\u001b[0m\u001b[0;34m:\u001b[0m\u001b[0;34m\u001b[0m\u001b[0;34m\u001b[0m\u001b[0m\n\u001b[0;32m--> 245\u001b[0;31m             \u001b[0;32mraise\u001b[0m \u001b[0mAttributeError\u001b[0m\u001b[0;34m(\u001b[0m\u001b[0;34m\"Can only use .str accessor with string values!\"\u001b[0m\u001b[0;34m)\u001b[0m\u001b[0;34m\u001b[0m\u001b[0;34m\u001b[0m\u001b[0m\n\u001b[0m\u001b[1;32m    246\u001b[0m         \u001b[0;32mreturn\u001b[0m \u001b[0minferred_dtype\u001b[0m\u001b[0;34m\u001b[0m\u001b[0;34m\u001b[0m\u001b[0m\n\u001b[1;32m    247\u001b[0m \u001b[0;34m\u001b[0m\u001b[0m\n",
            "\u001b[0;31mAttributeError\u001b[0m: Can only use .str accessor with string values!"
          ]
        }
      ]
    }
  ]
}