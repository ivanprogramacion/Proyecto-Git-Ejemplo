{
  "nbformat": 4,
  "nbformat_minor": 0,
  "metadata": {
    "colab": {
      "provenance": [],
      "authorship_tag": "ABX9TyNgpi9jiU3mK7ahLJfrCTuN",
      "include_colab_link": true
    },
    "kernelspec": {
      "name": "python3",
      "display_name": "Python 3"
    },
    "language_info": {
      "name": "python"
    }
  },
  "cells": [
    {
      "cell_type": "markdown",
      "metadata": {
        "id": "view-in-github",
        "colab_type": "text"
      },
      "source": [
        "<a href=\"https://colab.research.google.com/github/ivanprogramacion/Proyecto-Git-Ejemplo/blob/master/libroemepresa.ipynb\" target=\"_parent\"><img src=\"https://colab.research.google.com/assets/colab-badge.svg\" alt=\"Open In Colab\"/></a>"
      ]
    },
    {
      "cell_type": "code",
      "source": [
        "from google.colab import files\n",
        "uploaded = files.upload()"
      ],
      "metadata": {
        "colab": {
          "base_uri": "https://localhost:8080/",
          "height": 73
        },
        "id": "lxgsqKo_kI_d",
        "outputId": "be4136c3-9f5d-44e1-8bfc-d1888d1224aa"
      },
      "execution_count": 29,
      "outputs": [
        {
          "output_type": "display_data",
          "data": {
            "text/plain": [
              "<IPython.core.display.HTML object>"
            ],
            "text/html": [
              "\n",
              "     <input type=\"file\" id=\"files-662c4a23-1a62-486b-9850-ed886e009c49\" name=\"files[]\" multiple disabled\n",
              "        style=\"border:none\" />\n",
              "     <output id=\"result-662c4a23-1a62-486b-9850-ed886e009c49\">\n",
              "      Upload widget is only available when the cell has been executed in the\n",
              "      current browser session. Please rerun this cell to enable.\n",
              "      </output>\n",
              "      <script>// Copyright 2017 Google LLC\n",
              "//\n",
              "// Licensed under the Apache License, Version 2.0 (the \"License\");\n",
              "// you may not use this file except in compliance with the License.\n",
              "// You may obtain a copy of the License at\n",
              "//\n",
              "//      http://www.apache.org/licenses/LICENSE-2.0\n",
              "//\n",
              "// Unless required by applicable law or agreed to in writing, software\n",
              "// distributed under the License is distributed on an \"AS IS\" BASIS,\n",
              "// WITHOUT WARRANTIES OR CONDITIONS OF ANY KIND, either express or implied.\n",
              "// See the License for the specific language governing permissions and\n",
              "// limitations under the License.\n",
              "\n",
              "/**\n",
              " * @fileoverview Helpers for google.colab Python module.\n",
              " */\n",
              "(function(scope) {\n",
              "function span(text, styleAttributes = {}) {\n",
              "  const element = document.createElement('span');\n",
              "  element.textContent = text;\n",
              "  for (const key of Object.keys(styleAttributes)) {\n",
              "    element.style[key] = styleAttributes[key];\n",
              "  }\n",
              "  return element;\n",
              "}\n",
              "\n",
              "// Max number of bytes which will be uploaded at a time.\n",
              "const MAX_PAYLOAD_SIZE = 100 * 1024;\n",
              "\n",
              "function _uploadFiles(inputId, outputId) {\n",
              "  const steps = uploadFilesStep(inputId, outputId);\n",
              "  const outputElement = document.getElementById(outputId);\n",
              "  // Cache steps on the outputElement to make it available for the next call\n",
              "  // to uploadFilesContinue from Python.\n",
              "  outputElement.steps = steps;\n",
              "\n",
              "  return _uploadFilesContinue(outputId);\n",
              "}\n",
              "\n",
              "// This is roughly an async generator (not supported in the browser yet),\n",
              "// where there are multiple asynchronous steps and the Python side is going\n",
              "// to poll for completion of each step.\n",
              "// This uses a Promise to block the python side on completion of each step,\n",
              "// then passes the result of the previous step as the input to the next step.\n",
              "function _uploadFilesContinue(outputId) {\n",
              "  const outputElement = document.getElementById(outputId);\n",
              "  const steps = outputElement.steps;\n",
              "\n",
              "  const next = steps.next(outputElement.lastPromiseValue);\n",
              "  return Promise.resolve(next.value.promise).then((value) => {\n",
              "    // Cache the last promise value to make it available to the next\n",
              "    // step of the generator.\n",
              "    outputElement.lastPromiseValue = value;\n",
              "    return next.value.response;\n",
              "  });\n",
              "}\n",
              "\n",
              "/**\n",
              " * Generator function which is called between each async step of the upload\n",
              " * process.\n",
              " * @param {string} inputId Element ID of the input file picker element.\n",
              " * @param {string} outputId Element ID of the output display.\n",
              " * @return {!Iterable<!Object>} Iterable of next steps.\n",
              " */\n",
              "function* uploadFilesStep(inputId, outputId) {\n",
              "  const inputElement = document.getElementById(inputId);\n",
              "  inputElement.disabled = false;\n",
              "\n",
              "  const outputElement = document.getElementById(outputId);\n",
              "  outputElement.innerHTML = '';\n",
              "\n",
              "  const pickedPromise = new Promise((resolve) => {\n",
              "    inputElement.addEventListener('change', (e) => {\n",
              "      resolve(e.target.files);\n",
              "    });\n",
              "  });\n",
              "\n",
              "  const cancel = document.createElement('button');\n",
              "  inputElement.parentElement.appendChild(cancel);\n",
              "  cancel.textContent = 'Cancel upload';\n",
              "  const cancelPromise = new Promise((resolve) => {\n",
              "    cancel.onclick = () => {\n",
              "      resolve(null);\n",
              "    };\n",
              "  });\n",
              "\n",
              "  // Wait for the user to pick the files.\n",
              "  const files = yield {\n",
              "    promise: Promise.race([pickedPromise, cancelPromise]),\n",
              "    response: {\n",
              "      action: 'starting',\n",
              "    }\n",
              "  };\n",
              "\n",
              "  cancel.remove();\n",
              "\n",
              "  // Disable the input element since further picks are not allowed.\n",
              "  inputElement.disabled = true;\n",
              "\n",
              "  if (!files) {\n",
              "    return {\n",
              "      response: {\n",
              "        action: 'complete',\n",
              "      }\n",
              "    };\n",
              "  }\n",
              "\n",
              "  for (const file of files) {\n",
              "    const li = document.createElement('li');\n",
              "    li.append(span(file.name, {fontWeight: 'bold'}));\n",
              "    li.append(span(\n",
              "        `(${file.type || 'n/a'}) - ${file.size} bytes, ` +\n",
              "        `last modified: ${\n",
              "            file.lastModifiedDate ? file.lastModifiedDate.toLocaleDateString() :\n",
              "                                    'n/a'} - `));\n",
              "    const percent = span('0% done');\n",
              "    li.appendChild(percent);\n",
              "\n",
              "    outputElement.appendChild(li);\n",
              "\n",
              "    const fileDataPromise = new Promise((resolve) => {\n",
              "      const reader = new FileReader();\n",
              "      reader.onload = (e) => {\n",
              "        resolve(e.target.result);\n",
              "      };\n",
              "      reader.readAsArrayBuffer(file);\n",
              "    });\n",
              "    // Wait for the data to be ready.\n",
              "    let fileData = yield {\n",
              "      promise: fileDataPromise,\n",
              "      response: {\n",
              "        action: 'continue',\n",
              "      }\n",
              "    };\n",
              "\n",
              "    // Use a chunked sending to avoid message size limits. See b/62115660.\n",
              "    let position = 0;\n",
              "    do {\n",
              "      const length = Math.min(fileData.byteLength - position, MAX_PAYLOAD_SIZE);\n",
              "      const chunk = new Uint8Array(fileData, position, length);\n",
              "      position += length;\n",
              "\n",
              "      const base64 = btoa(String.fromCharCode.apply(null, chunk));\n",
              "      yield {\n",
              "        response: {\n",
              "          action: 'append',\n",
              "          file: file.name,\n",
              "          data: base64,\n",
              "        },\n",
              "      };\n",
              "\n",
              "      let percentDone = fileData.byteLength === 0 ?\n",
              "          100 :\n",
              "          Math.round((position / fileData.byteLength) * 100);\n",
              "      percent.textContent = `${percentDone}% done`;\n",
              "\n",
              "    } while (position < fileData.byteLength);\n",
              "  }\n",
              "\n",
              "  // All done.\n",
              "  yield {\n",
              "    response: {\n",
              "      action: 'complete',\n",
              "    }\n",
              "  };\n",
              "}\n",
              "\n",
              "scope.google = scope.google || {};\n",
              "scope.google.colab = scope.google.colab || {};\n",
              "scope.google.colab._files = {\n",
              "  _uploadFiles,\n",
              "  _uploadFilesContinue,\n",
              "};\n",
              "})(self);\n",
              "</script> "
            ]
          },
          "metadata": {}
        },
        {
          "output_type": "stream",
          "name": "stdout",
          "text": [
            "Saving pedidos_clientes.json to pedidos_clientes.json\n"
          ]
        }
      ]
    },
    {
      "cell_type": "code",
      "execution_count": null,
      "metadata": {
        "colab": {
          "base_uri": "https://localhost:8080/"
        },
        "id": "zfF_7V8fgau5",
        "outputId": "8a82a747-e2c7-445b-8f98-3f9738e4b23e"
      },
      "outputs": [
        {
          "output_type": "stream",
          "name": "stdout",
          "text": [
            "Total de ventas: $265.0\n"
          ]
        }
      ],
      "source": [
        "import csv\n",
        "# Abre el archivo CSV\n",
        "with open('datos_ventas.csv', 'r') as file:\n",
        "  # Crea un objeto que lee CSV\n",
        "  lector = csv.reader(file)\n",
        "  # Omite el encabezado\n",
        "  next(lector)\n",
        "  # Recorre las filas y extrae algunas conclusiones\n",
        "  total_ventas = 0\n",
        "  for fila in lector:\n",
        "    cantidad_ventas = float(fila[3])\n",
        "    total_ventas += cantidad_ventas\n",
        "\n",
        "\n",
        "# Imprime el total de ventas\n",
        "print(f\"Total de ventas: ${total_ventas}\")"
      ]
    },
    {
      "cell_type": "code",
      "source": [
        "import pandas as pd\n",
        "# Lee el archivo CSV y lo vuelve un DataFrame\n",
        "df = pd.read_csv('datos_ventas.csv')\n",
        "\n",
        "# Suma todas las ventas\n",
        "total_ventas = df['cantidad_ventas'].sum()\n",
        "# Imprime el total de ventas\n",
        "print(f\"Total de ventas: ${total_ventas}\")"
      ],
      "metadata": {
        "colab": {
          "base_uri": "https://localhost:8080/"
        },
        "id": "Fvx6SZ8HknxB",
        "outputId": "c2f801c4-34dd-42f5-e511-67e04f5e732e"
      },
      "execution_count": null,
      "outputs": [
        {
          "output_type": "stream",
          "name": "stdout",
          "text": [
            "Total de ventas: $265\n"
          ]
        }
      ]
    },
    {
      "cell_type": "code",
      "source": [
        "import openpyxl\n",
        "# Cargar el archivo Excel\n",
        "workbook = openpyxl.load_workbook('edades.xlsx')\n",
        "# Seleccione la hoja de calculo\n",
        "hoja_calculo = workbook['Hoja1']\n",
        "# Recorrer las filas e imprimir los datos\n",
        "edades = list()\n",
        "for row in hoja_calculo.iter_rows(values_only=True):\n",
        "  nombre , edad , genero = row\n",
        "import openpyxl\n",
        "# Cargar el archivo Excel\n",
        "workbook = openpyxl.load_workbook('edades.xlsx')\n",
        "# Seleccione la hoja de calculo\n",
        "hoja_calculo = workbook['Hoja1']\n",
        "# Recorrer las filas e imprimir los datos\n",
        "\n",
        "edades = list()\n",
        "for row in hoja_calculo.iter_rows(min_row=2,values_only=True):\n",
        "  nombre , edad , genero = row\n",
        "  edades.append(edad)\n",
        "  print(f\"Nombre: {nombre}, Edad: {edad}, Genero: {genero}\")\n",
        "\n",
        "print(\"El promedio de edad es de \" + f\"{sum(edades)/len(edades)} anos\")\n"
      ],
      "metadata": {
        "colab": {
          "base_uri": "https://localhost:8080/"
        },
        "id": "m_EmzZ-Vl4vV",
        "outputId": "4db1b555-662f-4c66-cee9-65209d0ec9e0"
      },
      "execution_count": 15,
      "outputs": [
        {
          "output_type": "stream",
          "name": "stdout",
          "text": [
            "Nombre: Alice, Edad: 24, Genero: Mujer\n",
            "Nombre: Bob, Edad: 32, Genero:  Hombre\n",
            "Nombre:  Charlie , Edad: 45, Genero: Hombre\n",
            "El promedio de edad es de33.666666666666664 anos\n"
          ]
        }
      ]
    },
    {
      "cell_type": "code",
      "source": [
        "import pandas as pd\n",
        "# Cargar el fichero Excel en un DataFrame de Pandas\n",
        "df = pd.read_excel('edades.xlsx', sheet_name='Hoja1')\n",
        "\n",
        "print(df.columns)\n",
        "#Calcular la edad media\n",
        "prom_edad = df['Edad'].mean()\n",
        "\n",
        "\n",
        "print(\"El promedio de edad es de:\", prom_edad)"
      ],
      "metadata": {
        "colab": {
          "base_uri": "https://localhost:8080/"
        },
        "id": "QscF_co9G88K",
        "outputId": "63b40592-2077-459b-cb61-149c7a8ec21b"
      },
      "execution_count": 24,
      "outputs": [
        {
          "output_type": "stream",
          "name": "stdout",
          "text": [
            "Index(['Nombre', 'Edad', 'Género'], dtype='object')\n",
            "El promedio de edad es de: 33.666666666666664\n"
          ]
        }
      ]
    },
    {
      "cell_type": "code",
      "source": [
        "import xml.etree.ElementTree as ET\n",
        "\n",
        "# Analisis de datos XML\n",
        "tree = ET.parse('libros.xml')\n",
        "root = tree.getroot ()\n",
        "\n",
        "# Extraccion de informacion pertinente\n",
        "total_libros = len(root.findall('libro'))\n",
        "total_precio = sum(float(libro.find('precio').text)\n",
        "\n",
        "for libro in root.findall('libro'))\n",
        "\n",
        "precio_medio = total_precio / total_libros\n",
        "\n",
        "# Visualizacion de la informacion extraida\n",
        "print(f'El total de libros es: {total_libros}')\n",
        "print(f'El precio total es: ${total_precio :.2f}')\n",
        "print(f'El precio medio es: ${precio_medio :.2f}')\n"
      ],
      "metadata": {
        "colab": {
          "base_uri": "https://localhost:8080/"
        },
        "id": "R46GgiLdJ_LZ",
        "outputId": "63b26147-638d-4f35-d211-dfcdb936a7e6"
      },
      "execution_count": 26,
      "outputs": [
        {
          "output_type": "stream",
          "name": "stdout",
          "text": [
            "El total de libros es: 3\n",
            "El precio total es: $119.97\n",
            "El precio medio es: $39.99\n"
          ]
        }
      ]
    },
    {
      "cell_type": "code",
      "source": [
        "import pandas as pd\n",
        "# Lectura del archivo XML en un DataFrame\n",
        "df = pd.read_xml('libros.xml', xpath='libro')\n",
        "\n",
        "# Extraccion de informacion pertinente\n",
        "total_libros = df.shape [0]\n",
        "total_precio=df['precio'].sum()\n",
        "potal_precio =df['precio'].mean()\n",
        "\n",
        "\n",
        "# Visualizacion de la informacion extraida\n",
        "print(f'El total de libros es: {total_libros}')\n",
        "print(f'El total de libros es: {total_libros}')\n",
        "print(f'El precio total es: ${total_precio :.2f}')\n"
      ],
      "metadata": {
        "colab": {
          "base_uri": "https://localhost:8080/"
        },
        "id": "0PbbUMkxLVt8",
        "outputId": "29be2566-c97a-4322-8d03-8deed41b26e5"
      },
      "execution_count": 28,
      "outputs": [
        {
          "output_type": "stream",
          "name": "stdout",
          "text": [
            "El total de libros es: 3\n",
            "El total de libros es: 3\n",
            "El precio total es: $119.97\n"
          ]
        }
      ]
    },
    {
      "cell_type": "code",
      "source": [
        "import json\n",
        "#Leer datos del archivo JSON\n",
        "with open('pedidos_clientes.json', 'r') as f:\n",
        "          data = json.load(f)\n",
        "\n",
        "# Extraccion de informacion pertinente\n",
        "pedidos = data['pedidos']\n",
        "total_pedidos = len(pedidos)\n",
        "total_cantidad = sum([pedido['cantidad']\n",
        "\n",
        "for pedido in pedidos])\n",
        "total_ingresos = sum([pedido['cantidad'] * pedido['precio']\n",
        "for pedido in pedidos])\n",
        "\n",
        "# Visualizacion de la informacion extraida\n",
        "print(f'Total de pedidos: {total_pedidos}')\n",
        "print(f'Cantidad total de ventas: {total_cantidad}')\n",
        "print(f'Total de ingresos: ${total_ingresos :.2f}')\n"
      ],
      "metadata": {
        "colab": {
          "base_uri": "https://localhost:8080/"
        },
        "id": "ARqe6qNLL3Ip",
        "outputId": "c9459dfb-084e-4f15-aeda-c8515f3803ee"
      },
      "execution_count": 31,
      "outputs": [
        {
          "output_type": "stream",
          "name": "stdout",
          "text": [
            "Total de pedidos: 3\n",
            "Cantidad total de ventas: 6\n",
            "Total de ingresos: $5199.94\n"
          ]
        }
      ]
    },
    {
      "source": [
        "import pandas as pd\n",
        "import json\n",
        "\n",
        "# Leer datos JSON\n",
        "with open('pedidos_clientes.json', 'r') as f:\n",
        "    data = json.load(f)\n",
        "\n",
        "# Acceder a la lista de pedidos dentro de los datos cargados\n",
        "pedidos_list = data['pedidos']\n",
        "\n",
        "# Crear un nuevo DataFrame a partir de la lista de pedidos\n",
        "df_pedidos = pd.DataFrame(pedidos_list)\n",
        "\n",
        "# Imprimir las columnas del nuevo DataFrame para verificar\n",
        "print(df_pedidos.columns)\n",
        "\n",
        "# Ahora puedes acceder a las columnas 'cantidad' y 'precio' en df_pedidos\n",
        "total_pedidos = df_pedidos.shape[0]\n",
        "total_cantidad = df_pedidos['cantidad'].sum()\n",
        "total_ingresos = (df_pedidos['cantidad'] * df_pedidos['precio']).sum()\n",
        "\n",
        "# Visualizacion de la informacion extraida\n",
        "print(f'Total de pedidos: {total_pedidos}')\n",
        "print(f'Cantidad total de ventas: {total_cantidad}')\n",
        "print(f'Total de ingresos: ${total_ingresos :.2f}')"
      ],
      "cell_type": "code",
      "metadata": {
        "colab": {
          "base_uri": "https://localhost:8080/"
        },
        "id": "EEob1k19PsyB",
        "outputId": "e7c724d3-6eea-4681-f60d-03ea985641df"
      },
      "execution_count": 36,
      "outputs": [
        {
          "output_type": "stream",
          "name": "stdout",
          "text": [
            "Index(['pedido_id', 'nombre_cliente', 'nombre_producto', 'cantidad', 'precio'], dtype='object')\n",
            "Total de pedidos: 3\n",
            "Cantidad total de ventas: 6\n",
            "Total de ingresos: $5199.94\n"
          ]
        }
      ]
    },
    {
      "cell_type": "code",
      "source": [
        "import pandas as pd\n",
        "# Creando una Serie\n",
        "serie = pd.Series([1, 2, 3, 4])\n",
        "print(serie)\n",
        "\n",
        "# Creando un DataFrame\n",
        "data = {'Nombres':['Ana', 'Juan', 'Luis'], 'Edades': [25, 30, 22]}\n",
        "df = pd.DataFrame(data)\n",
        "print(df)\n",
        "\n",
        "\n",
        "\n",
        "# Seleccionar una columna\n",
        "edades = df['Edades']\n",
        "print (edades)\n",
        "# Seleccionar multiples columnas\n",
        "subset = df[['Nombres', 'Edades']]\n",
        "print(subset)\n",
        "# Seleccionar filas por indice\n",
        "primera_fila = df.loc[0]\n",
        "print(primera_fila)\n",
        "\n",
        "# Filtrar por valores de una columna\n",
        "mayores_de_25 = df[df['Edades'] > 25]\n",
        "print(mayores_de_25)\n",
        "\n",
        "#Ordenar por una columna\n",
        "df_ordenado = df.sort_values(by='Edades', ascending=True)\n",
        "print(df_ordenado)\n",
        "\n",
        "# Agregar columna\n",
        "df['Profesion']=['Ingenieria','Doctor','Abogado']\n",
        "print(df)\n",
        "\n",
        "voy pagina 49\n"
      ],
      "metadata": {
        "colab": {
          "base_uri": "https://localhost:8080/"
        },
        "id": "y1rrSlthQOzP",
        "outputId": "3776c10a-99ec-4945-f5b7-779150945c75"
      },
      "execution_count": 46,
      "outputs": [
        {
          "output_type": "stream",
          "name": "stdout",
          "text": [
            "0    1\n",
            "1    2\n",
            "2    3\n",
            "3    4\n",
            "dtype: int64\n",
            "  Nombres  Edades\n",
            "0     Ana      25\n",
            "1    Juan      30\n",
            "2    Luis      22\n",
            "0    25\n",
            "1    30\n",
            "2    22\n",
            "Name: Edades, dtype: int64\n",
            "  Nombres  Edades\n",
            "0     Ana      25\n",
            "1    Juan      30\n",
            "2    Luis      22\n",
            "Nombres    Ana\n",
            "Edades      25\n",
            "Name: 0, dtype: object\n",
            "  Nombres  Edades\n",
            "1    Juan      30\n",
            "  Nombres  Edades\n",
            "2    Luis      22\n",
            "0     Ana      25\n",
            "1    Juan      30\n",
            "  Nombres  Edades   Profesion\n",
            "0     Ana      25  Ingenieria\n",
            "1    Juan      30      Doctor\n",
            "2    Luis      22     Abogado\n"
          ]
        }
      ]
    }
  ]
}